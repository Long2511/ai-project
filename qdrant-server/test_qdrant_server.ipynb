{
 "cells": [
  {
   "cell_type": "markdown",
   "id": "d192bc14",
   "metadata": {},
   "source": [
    "# Qdrant Server Test Notebook\n",
    "This notebook tests the basic functionality of a self-hosted Qdrant server by creating a collection, adding data, and querying for similar points."
   ]
  },
  {
   "cell_type": "markdown",
   "id": "6f341f9b",
   "metadata": {},
   "source": [
    "#### 1. Setup & Connection\n",
    "Importing the necessary libraries and connect to the Qdrant server."
   ]
  },
  {
   "cell_type": "code",
   "execution_count": 9,
   "id": "2fadfb99",
   "metadata": {},
   "outputs": [],
   "source": [
    "from qdrant_client import QdrantClient, models\n",
    "import numpy as np\n",
    "\n",
    "# Connect to the server\n",
    "client = QdrantClient(host=\"165.22.56.15\", port=6333)\n"
   ]
  },
  {
   "cell_type": "markdown",
   "id": "e38813ba",
   "metadata": {},
   "source": [
    "#### 2. Create a Collection\n",
    "Creating a new collection named `my_test_collection` with a vector size of 4 and using Cosine distance for similarity."
   ]
  },
  {
   "cell_type": "code",
   "execution_count": 6,
   "id": "b077b497",
   "metadata": {},
   "outputs": [
    {
     "name": "stderr",
     "output_type": "stream",
     "text": [
      "C:\\Users\\XIIN\\AppData\\Local\\Temp\\ipykernel_37724\\422947048.py:1: DeprecationWarning: `recreate_collection` method is deprecated and will be removed in the future. Use `collection_exists` to check collection existence and `create_collection` instead.\n",
      "  client.recreate_collection(\n"
     ]
    },
    {
     "data": {
      "text/plain": [
       "True"
      ]
     },
     "execution_count": 6,
     "metadata": {},
     "output_type": "execute_result"
    }
   ],
   "source": [
    "client.recreate_collection(\n",
    "    collection_name=\"my_test_collection\",\n",
    "    vectors_config=models.VectorParams(size=4, distance=models.Distance.COSINE)\n",
    ")"
   ]
  },
  {
   "cell_type": "markdown",
   "id": "06ad5854",
   "metadata": {},
   "source": [
    "#### 3. Upsert Data Points\n",
    "Adding four data points to the sample collection."
   ]
  },
  {
   "cell_type": "code",
   "execution_count": 7,
   "id": "cc7601ca",
   "metadata": {},
   "outputs": [
    {
     "data": {
      "text/plain": [
       "UpdateResult(operation_id=0, status=<UpdateStatus.COMPLETED: 'completed'>)"
      ]
     },
     "execution_count": 7,
     "metadata": {},
     "output_type": "execute_result"
    }
   ],
   "source": [
    "client.upsert(\n",
    "    collection_name=\"my_test_collection\",\n",
    "    points=[\n",
    "        models.PointStruct(id=1, vector=[0.9, 0.1, 0.1, 0.1], payload={\"item_name\": \"Similar Item A\"}),\n",
    "        models.PointStruct(id=2, vector=[0.8, 0.2, 0.1, 0.2], payload={\"item_name\": \"Similar Item B\"}),\n",
    "        models.PointStruct(id=3, vector=[0.1, 0.9, 0.1, 0.1], payload={\"item_name\": \"Different Item C\"}),\n",
    "        models.PointStruct(id=4, vector=[0.1, 0.1, 0.9, 0.1], payload={\"item_name\": \"Different Item D\"}),\n",
    "    ]\n",
    ")"
   ]
  },
  {
   "cell_type": "markdown",
   "id": "d07eec44",
   "metadata": {},
   "source": [
    "#### 4. Query for Similar Points\n",
    "Testing the server by finding the items most similar to the item with `id=1`."
   ]
  },
  {
   "cell_type": "code",
   "execution_count": 10,
   "id": "eb3ef277",
   "metadata": {},
   "outputs": [
    {
     "name": "stdout",
     "output_type": "stream",
     "text": [
      "points=[ScoredPoint(id=2, version=0, score=0.9833082, payload={'item_name': 'Similar Item B'}, vector=None, shard_key=None, order_value=None), ScoredPoint(id=3, version=0, score=0.23809524, payload={'item_name': 'Different Item C'}, vector=None, shard_key=None, order_value=None), ScoredPoint(id=4, version=0, score=0.23809524, payload={'item_name': 'Different Item D'}, vector=None, shard_key=None, order_value=None)]\n"
     ]
    }
   ],
   "source": [
    "search_results = client.query_points(\n",
    "    collection_name=\"my_test_collection\",\n",
    "    query=1, # Use the ID of an existing point\n",
    "    limit=3\n",
    ")\n",
    "\n",
    "print(search_results)"
   ]
  }
 ],
 "metadata": {
  "kernelspec": {
   "display_name": ".venv (3.13.3)",
   "language": "python",
   "name": "python3"
  },
  "language_info": {
   "codemirror_mode": {
    "name": "ipython",
    "version": 3
   },
   "file_extension": ".py",
   "mimetype": "text/x-python",
   "name": "python",
   "nbconvert_exporter": "python",
   "pygments_lexer": "ipython3",
   "version": "3.13.3"
  }
 },
 "nbformat": 4,
 "nbformat_minor": 5
}
